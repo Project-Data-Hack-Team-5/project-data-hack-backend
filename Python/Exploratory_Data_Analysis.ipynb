{
 "cells": [
  {
   "cell_type": "code",
   "execution_count": 4,
   "metadata": {},
   "outputs": [],
   "source": [
    "it_salary_2018_columns = ['Age', 'Gender', 'City', 'Position', 'Years of experience', 'Current Salary', 'Salary one year ago', 'Salary two years ago','Are you getting any Stock Options?', 'Company type']\n",
    "it_salary_2019_columns = [\n",
    "    'Age', \n",
    "    'Gender', \n",
    "    'City', \n",
    "    'Seniority level', \n",
    "    'Position (without seniority)', \n",
    "    'Years of experience', \n",
    "    'Your main technology / programming language',\n",
    "    'Yearly brutto salary (without bonus and stocks)', \n",
    "    'Company type',\n",
    "    'Company business sector']\n",
    "it_salary_2020_columns = [\n",
    "    'Age', \n",
    "    'Gender', \n",
    "    'City', \n",
    "    'Position ',\n",
    "    'Total years of experience',\n",
    "    'Seniority level',  \n",
    "    'Your main technology / programming language',\n",
    "    'Other technologies/programming languages you use often',\n",
    "    'Yearly brutto salary (without bonus and stocks) in EUR',\n",
    "    'Annual bonus+stocks one year ago. Only answer if staying in same country',\n",
    "    'Employment status',\n",
    "    'Ð¡ontract duration',\n",
    "    'Company type']\n",
    "\n",
    "levels_fyi_columns = ['company', 'title', 'totalyearlycompensation', 'location', 'yearsofexperience', 'yearsatcompany', 'basesalary',\n",
    "'Race_White', 'Race_Two_Or_More', 'Race_Black', 'Race_Hispanic', 'Race']\n",
    "\n",
    "ds_salaries_columns = ['job_title', 'salary', 'salary_in_usd']\n",
    "\n",
    "software_professional_columns = ['Company Name', 'Job Title', 'Salary']\n",
    "\n",
    "cyber_salaries_columns = ['job_title', 'salary_in_usd']\n"
   ]
  },
  {
   "cell_type": "code",
   "execution_count": 5,
   "metadata": {},
   "outputs": [],
   "source": [
    "import pandas as pd\n",
    "\n",
    "it_salary_eu_2020 = pd.read_csv('datasets/IT_Salary_Survey_EU_2020.csv', encoding='ISO-8859-1', sep=','\n",
    ",           usecols=it_salary_2020_columns\n",
    "            )\n",
    "\n",
    "it_salary_eu_2018 = pd.read_csv('datasets/IT_Salary_Survey_EU_2018.csv', encoding='ISO-8859-1', \n",
    "    usecols=it_salary_2018_columns)\n",
    "it_salary_eu_2019 = pd.read_csv('datasets/IT_Salary_Survey_EU_2019.csv', encoding='ISO-8859-1'\n",
    "    , usecols=it_salary_2019_columns\n",
    "    )\n",
    "\n",
    "# Data Science is stem - Good integrity\n",
    "levels_fyi_salaries = pd.read_csv('datasets/Levels_Fyi_Salary_Data.csv', encoding='ISO-8859-1'\n",
    ", usecols=levels_fyi_columns\n",
    ")\n",
    "\n",
    "# Data Science Salaries\n",
    "ds_salaries = pd.read_csv('datasets/ds_salaries.csv', encoding='ISO-8859-1'\n",
    ", usecols=ds_salaries_columns\n",
    ")\n",
    "\n",
    "# From Glassdoor India\n",
    "software_professional_datasets = pd.read_csv('datasets/Software_Professional_Salaries.csv', encoding='ISO-8859-1'\n",
    ", usecols=software_professional_columns\n",
    ")\n",
    "\n",
    "# From Survey\n",
    "cyber_salaries = pd.read_csv('datasets/salaries_cyber.csv', encoding='ISO-8859-1', usecols=cyber_salaries_columns)"
   ]
  },
  {
   "cell_type": "markdown",
   "metadata": {},
   "source": [
    "<h1>Exploration</h1>"
   ]
  },
  {
   "cell_type": "markdown",
   "metadata": {},
   "source": [
    "<p>IT Salaries Surveys<p>"
   ]
  },
  {
   "cell_type": "code",
   "execution_count": 10,
   "metadata": {},
   "outputs": [
    {
     "name": "stdout",
     "output_type": "stream",
     "text": [
      "      Age Gender        City       Position  Total years of experience  \\\n",
      "723  33.0   Male  Dusseldorf  Data Scientist                         2   \n",
      "\n",
      "    Seniority level Your main technology / programming language  \\\n",
      "723            Lead                                       Spark   \n",
      "\n",
      "    Other technologies/programming languages you use often  \\\n",
      "723                                     Python, Docker       \n",
      "\n",
      "     Yearly brutto salary (without bonus and stocks) in EUR  \\\n",
      "723                                            70000.0        \n",
      "\n",
      "    Annual bonus+stocks one year ago. Only answer if staying in same country  \\\n",
      "723                                              66000                         \n",
      "\n",
      "      Employment status  Ð¡ontract duration Company type  \n",
      "723  Full-time employee  Unlimited contract      Product  \n"
     ]
    }
   ],
   "source": [
    "# EDA\n",
    "print(it_salary_eu_2020.sample())\n",
    "\n",
    "# TODO: \n",
    "# 1. Combine Total Years into Float\n",
    "# 2. Append Seniority Level into Position to keep as Position\n",
    "# 3. Combine Programming Languages columns into a single column\n",
    "# 4. Get info on Annual bonus+stocks colunm\n",
    "\n",
    "it_salary_eu_2020.loc[:, 'Total years of experience'] = it_salary_eu_2020['Total years of experience'].astype(float)\n",
    "it_salary_eu_2020.loc[:, 'Position '] = pd.conat([it_salary_eu_2020['Position '], it_salary_eu_2020['Seniority level'])\n",
    "\n"
   ]
  },
  {
   "cell_type": "code",
   "execution_count": 77,
   "metadata": {},
   "outputs": [
    {
     "data": {
      "text/html": [
       "<div>\n",
       "<style scoped>\n",
       "    .dataframe tbody tr th:only-of-type {\n",
       "        vertical-align: middle;\n",
       "    }\n",
       "\n",
       "    .dataframe tbody tr th {\n",
       "        vertical-align: top;\n",
       "    }\n",
       "\n",
       "    .dataframe thead th {\n",
       "        text-align: right;\n",
       "    }\n",
       "</style>\n",
       "<table border=\"1\" class=\"dataframe\">\n",
       "  <thead>\n",
       "    <tr style=\"text-align: right;\">\n",
       "      <th></th>\n",
       "      <th>Age</th>\n",
       "      <th>Gender</th>\n",
       "      <th>City</th>\n",
       "      <th>Position</th>\n",
       "      <th>Years of experience</th>\n",
       "      <th>Current Salary</th>\n",
       "      <th>Salary one year ago</th>\n",
       "      <th>Salary two years ago</th>\n",
       "      <th>Are you getting any Stock Options?</th>\n",
       "      <th>Company type</th>\n",
       "    </tr>\n",
       "  </thead>\n",
       "  <tbody>\n",
       "    <tr>\n",
       "      <th>106</th>\n",
       "      <td>35.0</td>\n",
       "      <td>M</td>\n",
       "      <td>Berlin</td>\n",
       "      <td>Senior Engineer (PHP)</td>\n",
       "      <td>15.0</td>\n",
       "      <td>120000.0</td>\n",
       "      <td>85000.0</td>\n",
       "      <td>70000.0</td>\n",
       "      <td>Yes</td>\n",
       "      <td>Product</td>\n",
       "    </tr>\n",
       "  </tbody>\n",
       "</table>\n",
       "</div>"
      ],
      "text/plain": [
       "      Age Gender    City               Position  Years of experience  \\\n",
       "106  35.0      M  Berlin  Senior Engineer (PHP)                 15.0   \n",
       "\n",
       "     Current Salary  Salary one year ago  Salary two years ago  \\\n",
       "106        120000.0              85000.0               70000.0   \n",
       "\n",
       "    Are you getting any Stock Options? Company type  \n",
       "106                                Yes      Product  "
      ]
     },
     "execution_count": 77,
     "metadata": {},
     "output_type": "execute_result"
    }
   ],
   "source": [
    "it_salary_eu_2018.sample()"
   ]
  },
  {
   "cell_type": "code",
   "execution_count": 78,
   "metadata": {},
   "outputs": [
    {
     "data": {
      "text/html": [
       "<div>\n",
       "<style scoped>\n",
       "    .dataframe tbody tr th:only-of-type {\n",
       "        vertical-align: middle;\n",
       "    }\n",
       "\n",
       "    .dataframe tbody tr th {\n",
       "        vertical-align: top;\n",
       "    }\n",
       "\n",
       "    .dataframe thead th {\n",
       "        text-align: right;\n",
       "    }\n",
       "</style>\n",
       "<table border=\"1\" class=\"dataframe\">\n",
       "  <thead>\n",
       "    <tr style=\"text-align: right;\">\n",
       "      <th></th>\n",
       "      <th>Age</th>\n",
       "      <th>Gender</th>\n",
       "      <th>City</th>\n",
       "      <th>Seniority level</th>\n",
       "      <th>Position (without seniority)</th>\n",
       "      <th>Years of experience</th>\n",
       "      <th>Your main technology / programming language</th>\n",
       "      <th>Yearly brutto salary (without bonus and stocks)</th>\n",
       "      <th>Company type</th>\n",
       "      <th>Company business sector</th>\n",
       "    </tr>\n",
       "  </thead>\n",
       "  <tbody>\n",
       "    <tr>\n",
       "      <th>533</th>\n",
       "      <td>35.0</td>\n",
       "      <td>Male</td>\n",
       "      <td>Berlin</td>\n",
       "      <td>Senior</td>\n",
       "      <td>Backend Developer</td>\n",
       "      <td>12</td>\n",
       "      <td>PHP</td>\n",
       "      <td>90000.0</td>\n",
       "      <td>Startup</td>\n",
       "      <td>Ð¡ommerce</td>\n",
       "    </tr>\n",
       "  </tbody>\n",
       "</table>\n",
       "</div>"
      ],
      "text/plain": [
       "      Age Gender    City Seniority level Position (without seniority)  \\\n",
       "533  35.0   Male  Berlin          Senior            Backend Developer   \n",
       "\n",
       "     Years of experience Your main technology / programming language  \\\n",
       "533                   12                                         PHP   \n",
       "\n",
       "     Yearly brutto salary (without bonus and stocks) Company type  \\\n",
       "533                                          90000.0      Startup   \n",
       "\n",
       "    Company business sector  \n",
       "533               Ð¡ommerce  "
      ]
     },
     "execution_count": 78,
     "metadata": {},
     "output_type": "execute_result"
    }
   ],
   "source": [
    "it_salary_eu_2019.sample()"
   ]
  },
  {
   "cell_type": "markdown",
   "metadata": {},
   "source": [
    "Levels FYI Salaries"
   ]
  },
  {
   "cell_type": "markdown",
   "metadata": {},
   "source": [
    "Data Science Salaries"
   ]
  },
  {
   "cell_type": "markdown",
   "metadata": {},
   "source": [
    "Software Professionals"
   ]
  },
  {
   "cell_type": "markdown",
   "metadata": {},
   "source": [
    "Cyber Salaries"
   ]
  }
 ],
 "metadata": {
  "kernelspec": {
   "display_name": "Python 3.9.9 64-bit",
   "language": "python",
   "name": "python3"
  },
  "language_info": {
   "codemirror_mode": {
    "name": "ipython",
    "version": 3
   },
   "file_extension": ".py",
   "mimetype": "text/x-python",
   "name": "python",
   "nbconvert_exporter": "python",
   "pygments_lexer": "ipython3",
   "version": "3.9.9"
  },
  "orig_nbformat": 4,
  "vscode": {
   "interpreter": {
    "hash": "50292dbb1f747f7151d445135d392af3138fb3c65386d17d9510cb605222b10b"
   }
  }
 },
 "nbformat": 4,
 "nbformat_minor": 2
}
